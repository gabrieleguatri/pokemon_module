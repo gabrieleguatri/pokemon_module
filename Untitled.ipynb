{
 "cells": [
  {
   "cell_type": "code",
   "execution_count": 1,
   "id": "d5673a9d",
   "metadata": {},
   "outputs": [
    {
     "name": "stdout",
     "output_type": "stream",
     "text": [
      "Inserisci il nome del Pokemon: charizard\n",
      "la somma delle statistiche di Charizard è 534\n",
      "Inserisci il nome del Pokemon: charizard\n",
      "La differenza delle statistiche di Charizard è -534\n",
      "Inserisci il nome del Pokemon: charizard\n",
      "La moltiplicazione delle statistiche di Charizard è 473493384000\n",
      "Inserisci il nome del Pokemon: charizard\n",
      "La divisione delle statistiche di Charizard è 89.0\n"
     ]
    }
   ],
   "source": [
    "import Pokemon_module as pm"
   ]
  },
  {
   "cell_type": "code",
   "execution_count": null,
   "id": "04eb2810",
   "metadata": {},
   "outputs": [],
   "source": []
  },
  {
   "cell_type": "code",
   "execution_count": null,
   "id": "d669532c",
   "metadata": {},
   "outputs": [],
   "source": []
  }
 ],
 "metadata": {
  "kernelspec": {
   "display_name": "Python 3 (ipykernel)",
   "language": "python",
   "name": "python3"
  },
  "language_info": {
   "codemirror_mode": {
    "name": "ipython",
    "version": 3
   },
   "file_extension": ".py",
   "mimetype": "text/x-python",
   "name": "python",
   "nbconvert_exporter": "python",
   "pygments_lexer": "ipython3",
   "version": "3.11.4"
  }
 },
 "nbformat": 4,
 "nbformat_minor": 5
}
